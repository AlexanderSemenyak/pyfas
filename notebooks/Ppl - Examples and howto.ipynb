{
 "cells": [
  {
   "cell_type": "code",
   "execution_count": 20,
   "metadata": {
    "collapsed": false,
    "init_cell": true
   },
   "outputs": [],
   "source": [
    "import os\n",
    "import ipywidgets.widgets as wgt\n",
    "from ipywidgets import interact\n",
    "import pyfas as fa\n",
    "import pandas as pd"
   ]
  },
  {
   "cell_type": "markdown",
   "metadata": {},
   "source": [
    "---"
   ]
  },
  {
   "cell_type": "markdown",
   "metadata": {},
   "source": [
    "# Survival miniguide"
   ]
  },
  {
   "cell_type": "markdown",
   "metadata": {},
   "source": [
    "<i>To execute a cell:</i>\n",
    "\n",
    "> SHIFT+ENTER (per cell)\n",
    "\n",
    "or \n",
    "\n",
    "> Cell --> Run All from the toolbar above"
   ]
  },
  {
   "cell_type": "markdown",
   "metadata": {},
   "source": [
    "<img  src=\"run_all.png\"/>"
   ]
  },
  {
   "cell_type": "markdown",
   "metadata": {},
   "source": [
    "<i><H7>To insert an empty cell press ESC+</H7></i>\n",
    "> b (to insert below)  \n",
    "> a (to insert above) "
   ]
  },
  {
   "cell_type": "markdown",
   "metadata": {},
   "source": [
    "---"
   ]
  },
  {
   "cell_type": "markdown",
   "metadata": {},
   "source": [
    "# Ppl files, examples and howto"
   ]
  },
  {
   "cell_type": "markdown",
   "metadata": {},
   "source": [
    "For an tpl file the following methods are available:\n",
    "\n",
    "* <b>filter_profiles</b> - return a filtered subset of trends\n",
    "* <b>extract</b> - extract a single trend variable\n",
    "* <b>to_excel</b> - dump all the data to an excel file\n",
    "\n",
    "The usual workflow should be:\n",
    "\n",
    "1. Load the correct ppl\n",
    "2. Filter the desired variable(s)\n",
    "3. Extract the selected variable(s) or dump all the variables to an excel file\n",
    "4. Post-process your data in Excel or in the notebook itself"
   ]
  },
  {
   "cell_type": "markdown",
   "metadata": {},
   "source": [
    "---"
   ]
  },
  {
   "cell_type": "markdown",
   "metadata": {},
   "source": [
    "## File loading"
   ]
  },
  {
   "cell_type": "markdown",
   "metadata": {},
   "source": [
    "To load a tpl the corresponding filename have to be copied and pasted on the text are below.  \n",
    "  \n",
    "The dafault value used fro the eamples is <i>FC1_rev01.tpl</i> bur you are free to use a different file (the file path must be specified too)"
   ]
  },
  {
   "cell_type": "code",
   "execution_count": 3,
   "metadata": {
    "collapsed": false
   },
   "outputs": [],
   "source": [
    "# Path text widget\n",
    "path_wdt = wgt.Text(description=\"Path\", value=\"../pyfas/test\" )\n",
    "path_wdt"
   ]
  },
  {
   "cell_type": "markdown",
   "metadata": {},
   "source": [
    "To change the working folder is also possible to use the command cd like in a shell:\n",
    "> cd /path_to_your/working_folder/"
   ]
  },
  {
   "cell_type": "code",
   "execution_count": 4,
   "metadata": {
    "collapsed": false
   },
   "outputs": [],
   "source": [
    "# Filename text widget\n",
    "fname_wdt = wgt.Text(description=\"Filename\", value=r\"FC1_rev01.ppl\" )\n",
    "fname_wdt"
   ]
  },
  {
   "cell_type": "code",
   "execution_count": 5,
   "metadata": {
    "collapsed": false
   },
   "outputs": [],
   "source": [
    "path = path_wdt.value\n",
    "fobj = fname_wdt.value\n",
    "ppl = fa.Ppl(path + os.sep + fobj)"
   ]
  },
  {
   "cell_type": "markdown",
   "metadata": {},
   "source": [
    "---"
   ]
  },
  {
   "cell_type": "markdown",
   "metadata": {},
   "source": [
    "## Profile selection"
   ]
  },
  {
   "cell_type": "markdown",
   "metadata": {},
   "source": [
    "A ppl file can contain hundreds of profiles, in particular for complex networks. For this reason it may be of interest to filter the interesting variables to be processed. \n",
    "\n",
    "The easiest way to filter all the profiles with a specific pattern is the command:\n",
    "\n",
    "> ppl.filter_profiles(\"PT\")\n",
    "\n",
    "This will filter all the pressure profiles (or better, all the profiles with \"PT\" in the description, if you have defined a temperature profile in the branch \"PTOPSIDE\", for example, this profile will be selected too).\n",
    "\n",
    "The resulting python dictionaly will have a unique index (like a key for a database system) for each filtered trend that can be used to identify the interesting trend(s).\n",
    "\n",
    "If you change the pattern in the text area below you can filter different types of trends. If you leave it blank all the avaialbe trends will be showed."
   ]
  },
  {
   "cell_type": "code",
   "execution_count": 6,
   "metadata": {
    "collapsed": false
   },
   "outputs": [],
   "source": [
    "# Variable text widget\n",
    "var_wdt = wgt.Text(description=\"Variable\", value=\"PT\" )\n",
    "var_wdt"
   ]
  },
  {
   "cell_type": "code",
   "execution_count": 7,
   "metadata": {
    "collapsed": false
   },
   "outputs": [],
   "source": [
    "# variables filtering \n",
    "var_show_wdt = wgt.Button(description=\"Show filtered trends\", value=False)\n",
    "\n",
    "def on_button_clicked(b):\n",
    "    myvars = ppl.filter_profiles(var_wdt.value)\n",
    "    [print(idx, var.replace(\"\\n\", \"\")) for idx, var in zip(myvars.keys(), myvars.values())]\n",
    "\n",
    "var_show_wdt.on_click(on_button_clicked)\n",
    "var_show_wdt"
   ]
  },
  {
   "cell_type": "markdown",
   "metadata": {
    "hide_input": true
   },
   "source": [
    "The same but just a bit nicer:"
   ]
  },
  {
   "cell_type": "code",
   "execution_count": 8,
   "metadata": {
    "collapsed": false
   },
   "outputs": [
    {
     "data": {
      "text/html": [
       "<div>\n",
       "<table border=\"1\" class=\"dataframe\">\n",
       "  <thead>\n",
       "    <tr style=\"text-align: right;\">\n",
       "      <th></th>\n",
       "      <th>Profiles</th>\n",
       "    </tr>\n",
       "  </thead>\n",
       "  <tbody>\n",
       "    <tr>\n",
       "      <th>4</th>\n",
       "      <td>PT 'SECTION:' 'BRANCH:' 'old_offshore' '(PA)' ...</td>\n",
       "    </tr>\n",
       "    <tr>\n",
       "      <th>12</th>\n",
       "      <td>PT 'SECTION:' 'BRANCH:' 'riser' '(PA)' 'Pressu...</td>\n",
       "    </tr>\n",
       "    <tr>\n",
       "      <th>20</th>\n",
       "      <td>PT 'SECTION:' 'BRANCH:' 'new_offshore' '(PA)' ...</td>\n",
       "    </tr>\n",
       "    <tr>\n",
       "      <th>28</th>\n",
       "      <td>PT 'SECTION:' 'BRANCH:' 'to_vent' '(PA)' 'Pres...</td>\n",
       "    </tr>\n",
       "    <tr>\n",
       "      <th>36</th>\n",
       "      <td>PT 'SECTION:' 'BRANCH:' 'dry' '(PA)' 'Pressure'\\n</td>\n",
       "    </tr>\n",
       "    <tr>\n",
       "      <th>44</th>\n",
       "      <td>PT 'SECTION:' 'BRANCH:' 'tiein_spool' '(PA)' '...</td>\n",
       "    </tr>\n",
       "  </tbody>\n",
       "</table>\n",
       "</div>"
      ],
      "text/plain": [
       "                                             Profiles\n",
       "4   PT 'SECTION:' 'BRANCH:' 'old_offshore' '(PA)' ...\n",
       "12  PT 'SECTION:' 'BRANCH:' 'riser' '(PA)' 'Pressu...\n",
       "20  PT 'SECTION:' 'BRANCH:' 'new_offshore' '(PA)' ...\n",
       "28  PT 'SECTION:' 'BRANCH:' 'to_vent' '(PA)' 'Pres...\n",
       "36  PT 'SECTION:' 'BRANCH:' 'dry' '(PA)' 'Pressure'\\n\n",
       "44  PT 'SECTION:' 'BRANCH:' 'tiein_spool' '(PA)' '..."
      ]
     },
     "execution_count": 8,
     "metadata": {},
     "output_type": "execute_result"
    }
   ],
   "source": [
    "pd.DataFrame(ppl.filter_profiles(var_wdt.value), index=(\"Profiles\",)).T"
   ]
  },
  {
   "cell_type": "markdown",
   "metadata": {},
   "source": [
    "---"
   ]
  },
  {
   "cell_type": "markdown",
   "metadata": {},
   "source": [
    "## Dump to excel"
   ]
  },
  {
   "cell_type": "markdown",
   "metadata": {},
   "source": [
    "If no path is provided, an excel file called like the tpl file will be created in the working folder. Depending on the tpl size this may take a while."
   ]
  },
  {
   "cell_type": "code",
   "execution_count": 9,
   "metadata": {
    "collapsed": true
   },
   "outputs": [],
   "source": [
    "# Excel path\n",
    "xl_path_wdt = wgt.Text(description=\"Excel path\", value=\"\" )\n",
    "xl_path_wdt"
   ]
  },
  {
   "cell_type": "markdown",
   "metadata": {},
   "source": [
    "Click on the button below to generate the excel file"
   ]
  },
  {
   "cell_type": "code",
   "execution_count": 10,
   "metadata": {
    "collapsed": false
   },
   "outputs": [
    {
     "name": "stdout",
     "output_type": "stream",
     "text": [
      "Completed.\n",
      "Completed.\n",
      "Completed.\n"
     ]
    }
   ],
   "source": [
    "# Excel fname\n",
    "xl_button_wdt = wgt.Button(description=\"To Excel\", value=False)\n",
    "\n",
    "def on_button_clicked(b):\n",
    "    ppl.to_excel(xl_path_wdt.value)\n",
    "    print(\"Completed.\")\n",
    "\n",
    "xl_button_wdt.on_click(on_button_clicked)\n",
    "xl_button_wdt"
   ]
  },
  {
   "cell_type": "markdown",
   "metadata": {},
   "source": [
    "---"
   ]
  },
  {
   "cell_type": "markdown",
   "metadata": {},
   "source": [
    "## Extract a specific variable"
   ]
  },
  {
   "cell_type": "markdown",
   "metadata": {},
   "source": [
    "> N.B. This section of the notebook does not use interactive widgets, thus some python knowledge is required to manipulate variables or plot options."
   ]
  },
  {
   "cell_type": "markdown",
   "metadata": {},
   "source": [
    "Once you know the variable(s) index you are interested in (see the filtering paragraph above for more info) you can also extract it (or them) and use the data directly in the notebook. To postporcess here the results some python knowlwedge is required. "
   ]
  },
  {
   "cell_type": "markdown",
   "metadata": {},
   "source": [
    "Let's assume you are interested in the inlet pressure and the outlet temperature:"
   ]
  },
  {
   "cell_type": "code",
   "execution_count": 12,
   "metadata": {
    "collapsed": false
   },
   "outputs": [
    {
     "data": {
      "text/html": [
       "<div>\n",
       "<table border=\"1\" class=\"dataframe\">\n",
       "  <thead>\n",
       "    <tr style=\"text-align: right;\">\n",
       "      <th></th>\n",
       "      <th>Profiles</th>\n",
       "    </tr>\n",
       "  </thead>\n",
       "  <tbody>\n",
       "    <tr>\n",
       "      <th>5</th>\n",
       "      <td>TM 'SECTION:' 'BRANCH:' 'old_offshore' '(C)' '...</td>\n",
       "    </tr>\n",
       "    <tr>\n",
       "      <th>13</th>\n",
       "      <td>TM 'SECTION:' 'BRANCH:' 'riser' '(C)' 'Fluid t...</td>\n",
       "    </tr>\n",
       "    <tr>\n",
       "      <th>21</th>\n",
       "      <td>TM 'SECTION:' 'BRANCH:' 'new_offshore' '(C)' '...</td>\n",
       "    </tr>\n",
       "    <tr>\n",
       "      <th>29</th>\n",
       "      <td>TM 'SECTION:' 'BRANCH:' 'to_vent' '(C)' 'Fluid...</td>\n",
       "    </tr>\n",
       "    <tr>\n",
       "      <th>37</th>\n",
       "      <td>TM 'SECTION:' 'BRANCH:' 'dry' '(C)' 'Fluid tem...</td>\n",
       "    </tr>\n",
       "    <tr>\n",
       "      <th>45</th>\n",
       "      <td>TM 'SECTION:' 'BRANCH:' 'tiein_spool' '(C)' 'F...</td>\n",
       "    </tr>\n",
       "  </tbody>\n",
       "</table>\n",
       "</div>"
      ],
      "text/plain": [
       "                                             Profiles\n",
       "5   TM 'SECTION:' 'BRANCH:' 'old_offshore' '(C)' '...\n",
       "13  TM 'SECTION:' 'BRANCH:' 'riser' '(C)' 'Fluid t...\n",
       "21  TM 'SECTION:' 'BRANCH:' 'new_offshore' '(C)' '...\n",
       "29  TM 'SECTION:' 'BRANCH:' 'to_vent' '(C)' 'Fluid...\n",
       "37  TM 'SECTION:' 'BRANCH:' 'dry' '(C)' 'Fluid tem...\n",
       "45  TM 'SECTION:' 'BRANCH:' 'tiein_spool' '(C)' 'F..."
      ]
     },
     "execution_count": 12,
     "metadata": {},
     "output_type": "execute_result"
    }
   ],
   "source": [
    "pd.DataFrame(ppl.filter_profiles(\"TM\"), index=(\"Profiles\",)).T"
   ]
  },
  {
   "cell_type": "code",
   "execution_count": 13,
   "metadata": {
    "collapsed": false
   },
   "outputs": [
    {
     "data": {
      "text/html": [
       "<div>\n",
       "<table border=\"1\" class=\"dataframe\">\n",
       "  <thead>\n",
       "    <tr style=\"text-align: right;\">\n",
       "      <th></th>\n",
       "      <th>Profiles</th>\n",
       "    </tr>\n",
       "  </thead>\n",
       "  <tbody>\n",
       "    <tr>\n",
       "      <th>4</th>\n",
       "      <td>PT 'SECTION:' 'BRANCH:' 'old_offshore' '(PA)' ...</td>\n",
       "    </tr>\n",
       "    <tr>\n",
       "      <th>12</th>\n",
       "      <td>PT 'SECTION:' 'BRANCH:' 'riser' '(PA)' 'Pressu...</td>\n",
       "    </tr>\n",
       "    <tr>\n",
       "      <th>20</th>\n",
       "      <td>PT 'SECTION:' 'BRANCH:' 'new_offshore' '(PA)' ...</td>\n",
       "    </tr>\n",
       "    <tr>\n",
       "      <th>28</th>\n",
       "      <td>PT 'SECTION:' 'BRANCH:' 'to_vent' '(PA)' 'Pres...</td>\n",
       "    </tr>\n",
       "    <tr>\n",
       "      <th>36</th>\n",
       "      <td>PT 'SECTION:' 'BRANCH:' 'dry' '(PA)' 'Pressure'\\n</td>\n",
       "    </tr>\n",
       "    <tr>\n",
       "      <th>44</th>\n",
       "      <td>PT 'SECTION:' 'BRANCH:' 'tiein_spool' '(PA)' '...</td>\n",
       "    </tr>\n",
       "  </tbody>\n",
       "</table>\n",
       "</div>"
      ],
      "text/plain": [
       "                                             Profiles\n",
       "4   PT 'SECTION:' 'BRANCH:' 'old_offshore' '(PA)' ...\n",
       "12  PT 'SECTION:' 'BRANCH:' 'riser' '(PA)' 'Pressu...\n",
       "20  PT 'SECTION:' 'BRANCH:' 'new_offshore' '(PA)' ...\n",
       "28  PT 'SECTION:' 'BRANCH:' 'to_vent' '(PA)' 'Pres...\n",
       "36  PT 'SECTION:' 'BRANCH:' 'dry' '(PA)' 'Pressure'\\n\n",
       "44  PT 'SECTION:' 'BRANCH:' 'tiein_spool' '(PA)' '..."
      ]
     },
     "execution_count": 13,
     "metadata": {},
     "output_type": "execute_result"
    }
   ],
   "source": [
    "pd.DataFrame(ppl.filter_profiles(\"PT\"), index=(\"Profiles\",)).T"
   ]
  },
  {
   "cell_type": "markdown",
   "metadata": {},
   "source": [
    "Our targets are:\n",
    "\n",
    "> <b>variable 5</b> - TM 'SECTION:' 'BRANCH:' 'old_offshore' '(C)'   \n",
    "\n",
    "and  \n",
    "\n",
    "> <b>variable 4</b> - PT 'SECTION:' 'BRANCH:' 'old_offshore' '(PA)'  "
   ]
  },
  {
   "cell_type": "code",
   "execution_count": 14,
   "metadata": {
    "collapsed": true
   },
   "outputs": [],
   "source": [
    "# Extraction\n",
    "ppl.extract(5)\n",
    "ppl.extract(4)"
   ]
  },
  {
   "cell_type": "markdown",
   "metadata": {},
   "source": [
    "Now the tpl attribute \"data\" contains our data, let's plot it:"
   ]
  },
  {
   "cell_type": "code",
   "execution_count": 42,
   "metadata": {
    "collapsed": false
   },
   "outputs": [
    {
     "data": {
      "image/png": "[encoded data removed]",
      "text/plain": [
       "<matplotlib.figure.Figure at 0xa301a30>"
      ]
     },
     "metadata": {},
     "output_type": "display_data"
    }
   ],
   "source": [
    "@interact\n",
    "def myppl_plot(ts=wgt.IntSlider(min=0, max=len(ppl.data[5][1])-1)):\n",
    "    %matplotlib inline \n",
    "    fig, ax1 = plt.subplots(figsize=(12, 8));\n",
    "    p0, = ax1.plot(ppl.data[5][0]/1e3, ppl.data[5][1][ts])\n",
    "    ax1.set_ylim(10.5, 13)\n",
    "    ax1.set_xlabel(\"X [km]\", fontsize=16)\n",
    "    ax1.set_ylabel(\"[C]\", color='b', fontsize=16)\n",
    "    \n",
    "    ax2 = ax1.twinx()\n",
    "    ax2.grid(False)\n",
    "    p1, = ax2.plot(ppl.data[4][0]/1e3, ppl.data[4][1][ts]/1e5, 'r')\n",
    "    ax2.set_ylim(98, 135)  \n",
    "    ax2.set_ylabel(\"[bar]\", color='r', fontsize=16)\n",
    "    \n",
    "    plt.legend((p0, p1), (\"TM\", \"PT\"), loc=7)\n",
    "    \n",
    "    ax1.tick_params(axis=\"both\", labelsize=16)\n",
    "    ax2.tick_params(axis=\"both\", labelsize=16)\n",
    "    \n",
    "    plt.title(\"TM and PT profiles for the 'old_offshore' branch\", size=20)\n"
   ]
  },
  {
   "cell_type": "markdown",
   "metadata": {},
   "source": [
    "---"
   ]
  }
 ],
 "metadata": {
  "hide_input": false,
  "kernelspec": {
   "display_name": "Python 3",
   "language": "python",
   "name": "python3"
  },
  "language_info": {
   "codemirror_mode": {
    "name": "ipython",
    "version": 3
   },
   "file_extension": ".py",
   "mimetype": "text/x-python",
   "name": "python",
   "nbconvert_exporter": "python",
   "pygments_lexer": "ipython3",
   "version": "3.4.3"
  }
 },
 "nbformat": 4,
 "nbformat_minor": 0
}
