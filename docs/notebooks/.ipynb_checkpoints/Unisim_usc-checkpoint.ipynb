{
 "cells": [
  {
   "cell_type": "markdown",
   "metadata": {},
   "source": [
    "# Unisim usc files"
   ]
  },
  {
   "cell_type": "markdown",
   "metadata": {},
   "source": [
    "Unisim Design provides some old-fashion API via a COM interface to handle usc files. This interface works only on Windows and more info can be found [here](http://unisim.supportportal.com/) (a free registration is required).\n",
    "The Usc class of pyfas exposes in python a minimal subset of API.\n",
    "\n",
    "The available methods are:\n",
    "\n",
    "* extract_profiles\n",
    "* extract_stripchart\n",
    "* run_until\n",
    "* close\n",
    "* save"
   ]
  },
  {
   "cell_type": "markdown",
   "metadata": {},
   "source": [
    "<div class=\"alert alert-info\">\n",
    "\n",
    "**Warning:** Save and close any Unisim instance before using this class!\n",
    "\n",
    "</div>"
   ]
  },
  {
   "cell_type": "markdown",
   "metadata": {},
   "source": [
    "### Usc loading"
   ]
  },
  {
   "cell_type": "markdown",
   "metadata": {
    "collapsed": true
   },
   "source": [
    "To load a specific usc file the correct path and filename have to be provided:"
   ]
  },
  {
   "cell_type": "markdown",
   "metadata": {
    "collapsed": false,
    "init_cell": false
   },
   "source": [
    "`usc_path = '../../pyfas/test/test_files/'\n",
    "fname = 'test_case.usc'\n",
    "usc = fa.Usc(usc_path+fname)`"
   ]
  },
  {
   "cell_type": "markdown",
   "metadata": {},
   "source": [
    "### Extract Profiles"
   ]
  },
  {
   "cell_type": "markdown",
   "metadata": {},
   "source": [
    "Profiles can be extracted with the `extract_profiles` method: the pipeline name is required"
   ]
  },
  {
   "cell_type": "markdown",
   "metadata": {},
   "source": [
    "### Extract stripchart"
   ]
  },
  {
   "cell_type": "markdown",
   "metadata": {},
   "source": [
    "Stripcharts can be extracted with the `extract_stripchart` method: the defaul stripchart name is `overall`"
   ]
  },
  {
   "cell_type": "markdown",
   "metadata": {},
   "source": [
    "### Run until"
   ]
  },
  {
   "cell_type": "markdown",
   "metadata": {},
   "source": [
    "With `run_until` the simulation is started until the specified endtime (in minures) is reached."
   ]
  }
 ],
 "metadata": {
  "hide_input": true,
  "kernelspec": {
   "display_name": "Python 3",
   "language": "python",
   "name": "python3"
  },
  "language_info": {
   "codemirror_mode": {
    "name": "ipython",
    "version": 3
   },
   "file_extension": ".py",
   "mimetype": "text/x-python",
   "name": "python",
   "nbconvert_exporter": "python",
   "pygments_lexer": "ipython3",
   "version": "3.5.1+"
  }
 },
 "nbformat": 4,
 "nbformat_minor": 0
}
