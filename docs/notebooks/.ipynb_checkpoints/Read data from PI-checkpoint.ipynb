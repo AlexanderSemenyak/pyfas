{
 "cells": [
  {
   "cell_type": "code",
   "execution_count": 1,
   "metadata": {
    "collapsed": false
   },
   "outputs": [],
   "source": [
    "import pandas as pd\n",
    "from datetime import datetime\n",
    "from datetime import timedelta\n",
    "import ipywidgets.widgets as wdg\n",
    "from IPython.display import display\n",
    "import pyfas as fa"
   ]
  },
  {
   "cell_type": "code",
   "execution_count": 2,
   "metadata": {
    "collapsed": true
   },
   "outputs": [],
   "source": [
    "tags = ('CMS_AP-FI-2900-3',\n",
    "        'CMS_AP-FI-2903-1',\n",
    "        'CMS_AP-FI-2904-1',\n",
    "        'CMS_AP-FI-2903-2',\n",
    "        'CMS_AP-FI-2904-2',\n",
    "        )"
   ]
  },
  {
   "cell_type": "code",
   "execution_count": 15,
   "metadata": {
    "collapsed": true
   },
   "outputs": [],
   "source": [
    "def extraction():\n",
    "    label, uom, y = fa.PI_read(server_wdg.value,\n",
    "                               tags_wdg.value, \n",
    "                               start_time, \n",
    "                               final_time, \n",
    "                               int(freq_wdg.value))\n",
    "    time = np.linspace(0, (final_time - start_time).days, len(y))\n",
    "    return label, uom, y   \n",
    "\n",
    "def on_click_plt_button(b):\n",
    "    label, uom, y = extraction()\n",
    "    time = np.linspace(0, (final_time - start_time).days, len(y))\n",
    "    %matplotlib inline\n",
    "    plt.plot(time, y)\n",
    "    plt.xlabel('Time [Days]')\n",
    "    plt.ylabel('uom')\n",
    "    plt.title(label)\n",
    "\n",
    "def on_click_extract_button(b):\n",
    "    label, uom, y = extraction()\n",
    "    time = np.linspace(0, (final_time - start_time).days, len(y))\n",
    "    header = \"data [{}]\".format(uom)\n",
    "    df = pd.DataFrame()\n",
    "    df[\"Time [days]\"] = time    \n",
    "    df[header] = y\n",
    "    df.to_excel(\"data.xlsx\")"
   ]
  },
  {
   "cell_type": "code",
   "execution_count": 16,
   "metadata": {
    "collapsed": true
   },
   "outputs": [],
   "source": [
    "user_wdg = wdg.Text(description=\"User (opt.)\", value=\"\")\n",
    "pass_wdg = wdg.Text(description=\"Pass (opt.)\", value=\"\")\n",
    "hbox_0 = wdg.HBox(children=(user_wdg, pass_wdg))\n",
    "display(hbox_0)"
   ]
  },
  {
   "cell_type": "code",
   "execution_count": 17,
   "metadata": {
    "collapsed": false
   },
   "outputs": [],
   "source": [
    "server_wdg = wdg.Dropdown(description=\"Server\", options=(\"EPUKPI2\", ))\n",
    "tags_wdg = wdg.Dropdown(description=\"Tag\", options=tags)\n",
    "freq_wdg = wdg.Text(description=\"Freq. [Hz]\", value=\"1800\")\n",
    "hbox_1 = wdg.HBox(children=(freq_wdg, server_wdg, tags_wdg))\n",
    "display(hbox_1)"
   ]
  },
  {
   "cell_type": "code",
   "execution_count": 18,
   "metadata": {
    "collapsed": false
   },
   "outputs": [],
   "source": [
    "year_i_wdg = wdg.Text(description=\"Year i\", value=(\"2014\"))\n",
    "month_i_wdg = wdg.Text(description=\"Month i\", value=(\"01\"))\n",
    "day_i_wdg = wdg.Text(description=\"Day i\", value=(\"12\"))\n",
    "vbox_i = wdg.VBox(children=(year_i_wdg, month_i_wdg, day_i_wdg))\n",
    "start_time = datetime(int(year_i_wdg.value),\n",
    "                      int(month_i_wdg.value),\n",
    "                      int(day_i_wdg.value),\n",
    "                      )\n",
    "year_f_wdg = wdg.Text(description=\"Year f\", value=(\"2014\"))\n",
    "month_f_wdg = wdg.Text(description=\"Month f\", value=(\"02\"))\n",
    "day_f_wdg = wdg.Text(description=\"Day f\", value=(\"12\"))\n",
    "vbox_f = wdg.VBox(children=(year_f_wdg, month_f_wdg, day_f_wdg))\n",
    "final_time = datetime(int(year_f_wdg.value),\n",
    "                      int(month_f_wdg.value),\n",
    "                      int(day_f_wdg.value),\n",
    "                      )\n",
    "hbox_2 = wdg.HBox(children=(vbox_i, vbox_f))\n",
    "display(hbox_2)"
   ]
  },
  {
   "cell_type": "code",
   "execution_count": 19,
   "metadata": {
    "collapsed": true
   },
   "outputs": [
    {
     "data": {
      "image/png": "[encoded data removed]",
      "text/plain": [
       "<matplotlib.figure.Figure at 0xaad59b0>"
      ]
     },
     "metadata": {},
     "output_type": "display_data"
    },
    {
     "data": {
      "image/png": "[encoded data removed]",
      "text/plain": [
       "<matplotlib.figure.Figure at 0xab12450>"
      ]
     },
     "metadata": {},
     "output_type": "display_data"
    }
   ],
   "source": [
    "plot_wdg = wdg.Button(description=\"Plot\", font_size=20, border_color=\"black\")\n",
    "plot_wdg.on_click(on_click_plt_button)\n",
    "plot_wdg"
   ]
  },
  {
   "cell_type": "code",
   "execution_count": 20,
   "metadata": {
    "collapsed": false
   },
   "outputs": [],
   "source": [
    "to_xl_wdg = wdg.Button(description=\"To excel\", font_size=20, border_color=\"black\")\n",
    "to_xl_wdg.on_click(on_click_extract_button)\n",
    "to_xl_wdg"
   ]
  },
  {
   "cell_type": "code",
   "execution_count": null,
   "metadata": {
    "collapsed": true
   },
   "outputs": [],
   "source": []
  }
 ],
 "metadata": {
  "hide_input": false,
  "kernelspec": {
   "display_name": "Python 3",
   "language": "python",
   "name": "python3"
  },
  "language_info": {
   "codemirror_mode": {
    "name": "ipython",
    "version": 3
   },
   "file_extension": ".py",
   "mimetype": "text/x-python",
   "name": "python",
   "nbconvert_exporter": "python",
   "pygments_lexer": "ipython3",
   "version": "3.4.3"
  }
 },
 "nbformat": 4,
 "nbformat_minor": 0
}
