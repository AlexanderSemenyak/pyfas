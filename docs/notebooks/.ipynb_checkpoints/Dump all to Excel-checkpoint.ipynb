{
 "cells": [
  {
   "cell_type": "markdown",
   "metadata": {},
   "source": [
    "# Important "
   ]
  },
  {
   "cell_type": "markdown",
   "metadata": {},
   "source": [
    "<b>Execute all the cells to use the utility pressing:</b>"
   ]
  },
  {
   "cell_type": "markdown",
   "metadata": {},
   "source": [
    "> SHIFT+ENTER (per cell)\n",
    "\n",
    "or\n",
    "\n",
    "> Cell --> Execute all from the toolbar above"
   ]
  },
  {
   "cell_type": "markdown",
   "metadata": {},
   "source": [
    "---"
   ]
  },
  {
   "cell_type": "code",
   "execution_count": 1,
   "metadata": {
    "collapsed": true,
    "init_cell": false
   },
   "outputs": [],
   "source": [
    "import os\n",
    "import ipywidgets.widgets as wgt\n",
    "import pyfas as fa"
   ]
  },
  {
   "cell_type": "markdown",
   "metadata": {},
   "source": [
    "# Dump to Excel utility"
   ]
  },
  {
   "cell_type": "code",
   "execution_count": 8,
   "metadata": {
    "collapsed": false,
    "init_cell": false
   },
   "outputs": [],
   "source": [
    "# Path text widget\n",
    "path_wdt = wgt.Textarea(description=\"File path\",\n",
    "                        width=800, \n",
    "                        height='2.5em', \n",
    "                        border_color='gray',\n",
    "                        value=r\"C:\\Apps\\PROJECTS\\01 - Developments\\pyfas\\pyfas\\test\",\n",
    "                       )\n",
    "path_wdt"
   ]
  },
  {
   "cell_type": "code",
   "execution_count": 9,
   "metadata": {
    "collapsed": false,
    "init_cell": false
   },
   "outputs": [],
   "source": [
    "# Path text widget\n",
    "fname_wdt = wgt.Textarea(description=\"File name\",\n",
    "                         width=800, \n",
    "                         height='2.5em',\n",
    "                         border_color='gray',\n",
    "                         value=\"FC1_rev01.tpl\",\n",
    "                         )\n",
    "fname_wdt"
   ]
  },
  {
   "cell_type": "code",
   "execution_count": 12,
   "metadata": {
    "collapsed": true,
    "init_cell": false
   },
   "outputs": [],
   "source": [
    "# Excel Path text widget\n",
    "path_xl_wdt = wgt.Textarea(description=\"Excel Path (optional)\", \n",
    "                           width=735,\n",
    "                           height='2.5em',\n",
    "                           border_color='gray',\n",
    "                           )\n",
    "path_xl_wdt"
   ]
  },
  {
   "cell_type": "code",
   "execution_count": 13,
   "metadata": {
    "collapsed": false,
    "init_cell": false
   },
   "outputs": [
    {
     "name": "stdout",
     "output_type": "stream",
     "text": [
      "Extracting...\n",
      "\n",
      "Completed.\n"
     ]
    }
   ],
   "source": [
    "# Excel extraction\n",
    "\n",
    "path = path_wdt.value\n",
    "fobj = fname_wdt.value\n",
    "if fname_wdt.value == \"\":\n",
    "    print(\"Please specify a valid path and a tpl or ppl filename\")\n",
    "\n",
    "xl_button_wdt = wgt.Button(description=\"To Excel\", \n",
    "                           value=False, \n",
    "                           border_color='black',\n",
    "                           font_size=25)\n",
    "\n",
    "def on_button_clicked(b):\n",
    "    print(\"Extracting...\")\n",
    "    cwd = os.getcwd()\n",
    "    os.chdir(path)\n",
    "    if fname_wdt.value.endswith(\"tpl\"):\n",
    "        tpl = fa.Tpl(fobj)\n",
    "        tpl.to_excel()\n",
    "    if fname_wdt.value.endswith(\"ppl\"):\n",
    "        ppl = fa.Ppl(fobj)\n",
    "        ppl.to_excel()\n",
    "    print(\"\\nCompleted.\")\n",
    "    os.chdir(cwd)\n",
    "\n",
    "if fname_wdt.value != \"\" and fname_wdt.value != \"\":\n",
    "    xl_button_wdt.on_click(on_button_clicked)   \n",
    "xl_button_wdt"
   ]
  },
  {
   "cell_type": "markdown",
   "metadata": {},
   "source": [
    "---"
   ]
  },
  {
   "cell_type": "code",
   "execution_count": 6,
   "metadata": {
    "collapsed": true
   },
   "outputs": [],
   "source": [
    "## Equivalent version, fill and uncomment the code to execute it\n",
    "\n",
    "## To be filled\n",
    "# path = r\"\"\n",
    "# fobj = r\"\"\n",
    "#\n",
    "# os.chdir(path)\n",
    "# if fname_wdt.value.endswith(\"tpl\"):\n",
    "#     case = fa.Tpl(fobj)\n",
    "# if fname_wdt.value.endswith(\"ppl\"):\n",
    "#     case = fa.Ppl(fobj)\n",
    "# ppl.to_excel()"
   ]
  }
 ],
 "metadata": {
  "hide_input": true,
  "kernelspec": {
   "display_name": "Python 3",
   "language": "python",
   "name": "python3"
  },
  "language_info": {
   "codemirror_mode": {
    "name": "ipython",
    "version": 3
   },
   "file_extension": ".py",
   "mimetype": "text/x-python",
   "name": "python",
   "nbconvert_exporter": "python",
   "pygments_lexer": "ipython3",
   "version": "3.5.1+"
  }
 },
 "nbformat": 4,
 "nbformat_minor": 0
}
