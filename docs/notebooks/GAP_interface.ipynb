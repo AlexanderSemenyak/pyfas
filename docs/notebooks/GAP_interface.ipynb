{
 "cells": [
  {
   "cell_type": "markdown",
   "metadata": {
    "collapsed": true
   },
   "source": [
    "# GAP interface"
   ]
  },
  {
   "cell_type": "markdown",
   "metadata": {},
   "source": [
    "GAP provides a comfortable set of API via the OpenServer interface.\n",
    "This interface works, of course, only on Windows and provides a CLI access to most of the simulator features.\n",
    "`Pyfas` is not required to use OpenServer."
   ]
  },
  {
   "cell_type": "markdown",
   "metadata": {},
   "source": [
    "This example uses pywin32, but any package providing a COM interface should work: \n",
    "\n",
    "`# Connecting to the open GAP file`  \n",
    "`from win32com.client import Dispatch`  \n",
    "`gap = Dispatch('PX32.OpenServer.1')`  "
   ]
  },
  {
   "cell_type": "markdown",
   "metadata": {},
   "source": [
    "`OpenServer` unfortunately works only if GAP is open and on the active GAP model."
   ]
  },
  {
   "cell_type": "markdown",
   "metadata": {},
   "source": [
    "Two basic operations are possible: \n",
    "\n",
    "* `getvalue`\n",
    "* `setvalue`\n",
    "\n",
    "Pretty straightforward, no?"
   ]
  },
  {
   "cell_type": "markdown",
   "metadata": {},
   "source": [
    "`# This command shows the flow correlation for the Pipe1 of the model {PROD}`    \n",
    "`gap.getvalue(\"GAP.MOD[{PROD}].PIPE[1].PIPECORR\")`  \n",
    "`Out[4]: 'MukerjeeBrill'`  "
   ]
  },
  {
   "cell_type": "markdown",
   "metadata": {},
   "source": [
    "To <i>set</i> a value instead:\n",
    "\n"
   ]
  },
  {
   "cell_type": "markdown",
   "metadata": {},
   "source": [
    "`# This command set the flowrate of SOURCE1 to 10 (it uses predefined unit)`   \n",
    "`gap.setvalue(\"GAP.MOD[{PROD}].SOURCE[{Source1}].Rate\", 10)`  "
   ]
  },
  {
   "cell_type": "markdown",
   "metadata": {},
   "source": [
    "It looks complicated but a good reference guide is available and, even better, with the right click in the GUI the corresponding `OpenServer` command can be showed in the `OpenServer` window:"
   ]
  },
  {
   "cell_type": "markdown",
   "metadata": {},
   "source": [
    "![](openserver.png)"
   ]
  }
 ],
 "metadata": {
  "kernelspec": {
   "display_name": "Python 3",
   "language": "python",
   "name": "python3"
  },
  "language_info": {
   "codemirror_mode": {
    "name": "ipython",
    "version": 3
   },
   "file_extension": ".py",
   "mimetype": "text/x-python",
   "name": "python",
   "nbconvert_exporter": "python",
   "pygments_lexer": "ipython3",
   "version": "3.6.3"
  },
  "toc": {
   "toc_cell": false,
   "toc_number_sections": true,
   "toc_threshold": 6,
   "toc_window_display": false
  }
 },
 "nbformat": 4,
 "nbformat_minor": 2
}
