{
 "cells": [
  {
   "cell_type": "markdown",
   "metadata": {},
   "source": [
    "# PipeSim interface (via Openlink)"
   ]
  },
  {
   "cell_type": "markdown",
   "metadata": {},
   "source": [
    "The OpenLink functionality (available for all the PipeSim versions <= v2012.4) provides a COM interface to both single branch and network models.\n"
   ]
  },
  {
   "cell_type": "markdown",
   "metadata": {},
   "source": [
    "Like for other COM interfaces the `Dispatch` method of the `pywin32` module can be used to communicate with PipeSim. For example to open the a network model called `base_model.bpn` you can:"
   ]
  },
  {
   "cell_type": "markdown",
   "metadata": {},
   "source": [
    "`o = Dispatch(\"NET32COM.INetModel\")`  \n",
    "`o.OpenModel(path_to/base_model.bpn)`"
   ]
  },
  {
   "cell_type": "markdown",
   "metadata": {},
   "source": [
    "Once loaded the different elements of the model can be checked or modified: `o.GetNameList(i)` returns a 2-elements tutple containing the names and the number of elements corresponding to the index i. For example:"
   ]
  },
  {
   "cell_type": "markdown",
   "metadata": {},
   "source": [
    "`o.GetNameList(2)[0]`"
   ]
  },
  {
   "cell_type": "markdown",
   "metadata": {},
   "source": [
    "would return all the names of the sources of the model."
   ]
  },
  {
   "cell_type": "markdown",
   "metadata": {},
   "source": [
    "Once the name of the source you want to modify is known it is possilbe to use `o.SetBoundaryFluidrate` to define a new fluid rate:"
   ]
  },
  {
   "cell_type": "markdown",
   "metadata": {},
   "source": [
    "`o.SetBoundaryFluidrate(source_name, 0, new_value, 'STB/d')`\n",
    "\n",
    "SetBoundaryFluidrate as second parameter accepts an integer:\n",
    "* 0 for liquid flowrate\n",
    "* 1 for gas flowrate"
   ]
  },
  {
   "cell_type": "markdown",
   "metadata": {},
   "source": [
    "`o.SaveModel` can be use to save as (it requires as parameter the path and the new name of the model as a string)"
   ]
  },
  {
   "cell_type": "markdown",
   "metadata": {},
   "source": [
    "## Run a case "
   ]
  },
  {
   "cell_type": "markdown",
   "metadata": {},
   "source": [
    "To run a case in the background:\n",
    "\n",
    "`o.RunNetwork2(False, \"-B\")`\n",
    "\n",
    "and to check if it is still simulating:\n",
    "\n",
    "`o.GetIsModelRunning()`"
   ]
  },
  {
   "cell_type": "markdown",
   "metadata": {},
   "source": [
    "## Node results"
   ]
  },
  {
   "cell_type": "markdown",
   "metadata": {},
   "source": [
    "Node results can be estracted using the `Dispatch(\"PNSREADER.PNSCom\")`:"
   ]
  },
  {
   "cell_type": "markdown",
   "metadata": {},
   "source": [
    "`results.ReadPnsFile(pns_file_path)`  \n",
    "`idx = results.GetNodeIndex(interesting_node)`  \n",
    "`pt = results.GetNodeVariableValue(idx, 'Pressure')`  "
   ]
  }
 ],
 "metadata": {
  "kernelspec": {
   "display_name": "Python 3",
   "language": "python",
   "name": "python3"
  },
  "language_info": {
   "codemirror_mode": {
    "name": "ipython",
    "version": 3
   },
   "file_extension": ".py",
   "mimetype": "text/x-python",
   "name": "python",
   "nbconvert_exporter": "python",
   "pygments_lexer": "ipython3",
   "version": "3.6.5"
  },
  "toc": {
   "toc_cell": false,
   "toc_number_sections": true,
   "toc_threshold": 6,
   "toc_window_display": false
  }
 },
 "nbformat": 4,
 "nbformat_minor": 2
}
