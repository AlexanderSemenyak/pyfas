{
 "cells": [
  {
   "cell_type": "code",
   "execution_count": 1,
   "metadata": {
    "collapsed": true,
    "init_cell": true
   },
   "outputs": [],
   "source": [
    "import pyfas as fa\n",
    "import pandas as pd\n",
    "import matplotlib.pyplot as plt\n",
    "pd.options.display.max_colwidth = 120"
   ]
  },
  {
   "cell_type": "markdown",
   "metadata": {},
   "source": [
    "# OLGA ppl files, examples and howto"
   ]
  },
  {
   "cell_type": "markdown",
   "metadata": {},
   "source": [
    "For an tpl file the following methods are available:\n",
    "\n",
    "* <b>filter_data</b> - return a filtered subset of trends\n",
    "* <b>extract</b> - extract a single trend variable\n",
    "* <b>to_excel</b> - dump all the data to an excel file\n",
    "\n",
    "The usual workflow should be:\n",
    "\n",
    "1. Load the correct tpl\n",
    "2. Select the desired variable(s)\n",
    "3. Extract the results or dump all the variables to an excel file\n",
    "4. Post-process your data in Excel or in the notebook itself"
   ]
  },
  {
   "cell_type": "markdown",
   "metadata": {},
   "source": [
    "## Ppl loading"
   ]
  },
  {
   "cell_type": "markdown",
   "metadata": {},
   "source": [
    "To load a specific tpl file the correct path and filename have to be provided:"
   ]
  },
  {
   "cell_type": "code",
   "execution_count": 2,
   "metadata": {},
   "outputs": [],
   "source": [
    "ppl_path = '../../pyfas/test/test_files/'\n",
    "fname = 'FC1_rev01.ppl'\n",
    "ppl = fa.Ppl(ppl_path+fname)"
   ]
  },
  {
   "cell_type": "markdown",
   "metadata": {},
   "source": [
    "### Profile selection"
   ]
  },
  {
   "cell_type": "markdown",
   "metadata": {},
   "source": [
    "As for tpl files, a ppl file may contain hundreds of profiles, in particular for complex networks. For this reason a filtering method is quite useful.  \n",
    "The easiest way is to filter on all the profiles using patters, the command `ppl.filter_trends(\"PT\")` filters all the pressure profiless (or better, all the profiles with \"PT\" in the description, if you have defined a temperature profile in the position \"PTTOPSIDE\", for example, this profile will be selected too).\n",
    "The resulting python dictionaly will have a unique index for each filtered profile that can be used to identify the interesting profile(s).\n",
    "In case of an emply pattern all the available profiles will be reported."
   ]
  },
  {
   "cell_type": "code",
   "execution_count": 3,
   "metadata": {},
   "outputs": [
    {
     "data": {
      "text/plain": [
       "{4: \"PT 'SECTION:' 'BRANCH:' 'old_offshore' '(PA)' 'Pressure'\\n\",\n",
       " 12: \"PT 'SECTION:' 'BRANCH:' 'riser' '(PA)' 'Pressure'\\n\",\n",
       " 20: \"PT 'SECTION:' 'BRANCH:' 'new_offshore' '(PA)' 'Pressure'\\n\",\n",
       " 28: \"PT 'SECTION:' 'BRANCH:' 'to_vent' '(PA)' 'Pressure'\\n\",\n",
       " 36: \"PT 'SECTION:' 'BRANCH:' 'dry' '(PA)' 'Pressure'\\n\",\n",
       " 44: \"PT 'SECTION:' 'BRANCH:' 'tiein_spool' '(PA)' 'Pressure'\\n\"}"
      ]
     },
     "execution_count": 3,
     "metadata": {},
     "output_type": "execute_result"
    }
   ],
   "source": [
    "ppl.filter_data('PT')"
   ]
  },
  {
   "cell_type": "markdown",
   "metadata": {
    "hide_input": true
   },
   "source": [
    "The same outpout can be reported as a pandas dataframe:"
   ]
  },
  {
   "cell_type": "code",
   "execution_count": 4,
   "metadata": {},
   "outputs": [
    {
     "data": {
      "text/html": [
       "<div>\n",
       "<table border=\"1\" class=\"dataframe\">\n",
       "  <thead>\n",
       "    <tr style=\"text-align: right;\">\n",
       "      <th></th>\n",
       "      <th>Profiles</th>\n",
       "    </tr>\n",
       "  </thead>\n",
       "  <tbody>\n",
       "    <tr>\n",
       "      <th>4</th>\n",
       "      <td>PT 'SECTION:' 'BRANCH:' 'old_offshore' '(PA)' 'Pressure'\\n</td>\n",
       "    </tr>\n",
       "    <tr>\n",
       "      <th>12</th>\n",
       "      <td>PT 'SECTION:' 'BRANCH:' 'riser' '(PA)' 'Pressure'\\n</td>\n",
       "    </tr>\n",
       "    <tr>\n",
       "      <th>20</th>\n",
       "      <td>PT 'SECTION:' 'BRANCH:' 'new_offshore' '(PA)' 'Pressure'\\n</td>\n",
       "    </tr>\n",
       "    <tr>\n",
       "      <th>28</th>\n",
       "      <td>PT 'SECTION:' 'BRANCH:' 'to_vent' '(PA)' 'Pressure'\\n</td>\n",
       "    </tr>\n",
       "    <tr>\n",
       "      <th>36</th>\n",
       "      <td>PT 'SECTION:' 'BRANCH:' 'dry' '(PA)' 'Pressure'\\n</td>\n",
       "    </tr>\n",
       "    <tr>\n",
       "      <th>44</th>\n",
       "      <td>PT 'SECTION:' 'BRANCH:' 'tiein_spool' '(PA)' 'Pressure'\\n</td>\n",
       "    </tr>\n",
       "  </tbody>\n",
       "</table>\n",
       "</div>"
      ],
      "text/plain": [
       "                                                      Profiles\n",
       "4   PT 'SECTION:' 'BRANCH:' 'old_offshore' '(PA)' 'Pressure'\\n\n",
       "12         PT 'SECTION:' 'BRANCH:' 'riser' '(PA)' 'Pressure'\\n\n",
       "20  PT 'SECTION:' 'BRANCH:' 'new_offshore' '(PA)' 'Pressure'\\n\n",
       "28       PT 'SECTION:' 'BRANCH:' 'to_vent' '(PA)' 'Pressure'\\n\n",
       "36           PT 'SECTION:' 'BRANCH:' 'dry' '(PA)' 'Pressure'\\n\n",
       "44   PT 'SECTION:' 'BRANCH:' 'tiein_spool' '(PA)' 'Pressure'\\n"
      ]
     },
     "execution_count": 4,
     "metadata": {},
     "output_type": "execute_result"
    }
   ],
   "source": [
    "pd.DataFrame(ppl.filter_data('PT'), index=(\"Profiles\",)).T"
   ]
  },
  {
   "cell_type": "markdown",
   "metadata": {},
   "source": [
    "---"
   ]
  },
  {
   "cell_type": "markdown",
   "metadata": {},
   "source": [
    "### Dump to excel"
   ]
  },
  {
   "cell_type": "markdown",
   "metadata": {},
   "source": [
    "To dump all the variables in an excel file use `ppl.to_excel()`\n",
    "If no path is provided an excel file with the same name of the tpl file is generated in the working folder. Depending on the tpl size this may take a while."
   ]
  },
  {
   "cell_type": "markdown",
   "metadata": {},
   "source": [
    "### Extract a specific variable"
   ]
  },
  {
   "cell_type": "markdown",
   "metadata": {},
   "source": [
    "Once you know the variable(s) index you are interested in (see the filtering paragraph above for more info) you can extract it (or them) and use the data directly in python."
   ]
  },
  {
   "cell_type": "markdown",
   "metadata": {},
   "source": [
    "Let's assume you are interested in the pressure and the temperature profile of the branch `riser`:"
   ]
  },
  {
   "cell_type": "code",
   "execution_count": 5,
   "metadata": {},
   "outputs": [
    {
     "data": {
      "text/html": [
       "<div>\n",
       "<table border=\"1\" class=\"dataframe\">\n",
       "  <thead>\n",
       "    <tr style=\"text-align: right;\">\n",
       "      <th></th>\n",
       "      <th>Profiles</th>\n",
       "    </tr>\n",
       "  </thead>\n",
       "  <tbody>\n",
       "    <tr>\n",
       "      <th>5</th>\n",
       "      <td>TM 'SECTION:' 'BRANCH:' 'old_offshore' '(C)' 'Fluid temperature'\\n</td>\n",
       "    </tr>\n",
       "    <tr>\n",
       "      <th>13</th>\n",
       "      <td>TM 'SECTION:' 'BRANCH:' 'riser' '(C)' 'Fluid temperature'\\n</td>\n",
       "    </tr>\n",
       "    <tr>\n",
       "      <th>21</th>\n",
       "      <td>TM 'SECTION:' 'BRANCH:' 'new_offshore' '(C)' 'Fluid temperature'\\n</td>\n",
       "    </tr>\n",
       "    <tr>\n",
       "      <th>29</th>\n",
       "      <td>TM 'SECTION:' 'BRANCH:' 'to_vent' '(C)' 'Fluid temperature'\\n</td>\n",
       "    </tr>\n",
       "    <tr>\n",
       "      <th>37</th>\n",
       "      <td>TM 'SECTION:' 'BRANCH:' 'dry' '(C)' 'Fluid temperature'\\n</td>\n",
       "    </tr>\n",
       "    <tr>\n",
       "      <th>45</th>\n",
       "      <td>TM 'SECTION:' 'BRANCH:' 'tiein_spool' '(C)' 'Fluid temperature'\\n</td>\n",
       "    </tr>\n",
       "  </tbody>\n",
       "</table>\n",
       "</div>"
      ],
      "text/plain": [
       "                                                              Profiles\n",
       "5   TM 'SECTION:' 'BRANCH:' 'old_offshore' '(C)' 'Fluid temperature'\\n\n",
       "13         TM 'SECTION:' 'BRANCH:' 'riser' '(C)' 'Fluid temperature'\\n\n",
       "21  TM 'SECTION:' 'BRANCH:' 'new_offshore' '(C)' 'Fluid temperature'\\n\n",
       "29       TM 'SECTION:' 'BRANCH:' 'to_vent' '(C)' 'Fluid temperature'\\n\n",
       "37           TM 'SECTION:' 'BRANCH:' 'dry' '(C)' 'Fluid temperature'\\n\n",
       "45   TM 'SECTION:' 'BRANCH:' 'tiein_spool' '(C)' 'Fluid temperature'\\n"
      ]
     },
     "execution_count": 5,
     "metadata": {},
     "output_type": "execute_result"
    }
   ],
   "source": [
    "pd.DataFrame(ppl.filter_data(\"TM\"), index=(\"Profiles\",)).T"
   ]
  },
  {
   "cell_type": "code",
   "execution_count": 6,
   "metadata": {},
   "outputs": [
    {
     "data": {
      "text/html": [
       "<div>\n",
       "<table border=\"1\" class=\"dataframe\">\n",
       "  <thead>\n",
       "    <tr style=\"text-align: right;\">\n",
       "      <th></th>\n",
       "      <th>Profiles</th>\n",
       "    </tr>\n",
       "  </thead>\n",
       "  <tbody>\n",
       "    <tr>\n",
       "      <th>4</th>\n",
       "      <td>PT 'SECTION:' 'BRANCH:' 'old_offshore' '(PA)' 'Pressure'\\n</td>\n",
       "    </tr>\n",
       "    <tr>\n",
       "      <th>12</th>\n",
       "      <td>PT 'SECTION:' 'BRANCH:' 'riser' '(PA)' 'Pressure'\\n</td>\n",
       "    </tr>\n",
       "    <tr>\n",
       "      <th>20</th>\n",
       "      <td>PT 'SECTION:' 'BRANCH:' 'new_offshore' '(PA)' 'Pressure'\\n</td>\n",
       "    </tr>\n",
       "    <tr>\n",
       "      <th>28</th>\n",
       "      <td>PT 'SECTION:' 'BRANCH:' 'to_vent' '(PA)' 'Pressure'\\n</td>\n",
       "    </tr>\n",
       "    <tr>\n",
       "      <th>36</th>\n",
       "      <td>PT 'SECTION:' 'BRANCH:' 'dry' '(PA)' 'Pressure'\\n</td>\n",
       "    </tr>\n",
       "    <tr>\n",
       "      <th>44</th>\n",
       "      <td>PT 'SECTION:' 'BRANCH:' 'tiein_spool' '(PA)' 'Pressure'\\n</td>\n",
       "    </tr>\n",
       "  </tbody>\n",
       "</table>\n",
       "</div>"
      ],
      "text/plain": [
       "                                                      Profiles\n",
       "4   PT 'SECTION:' 'BRANCH:' 'old_offshore' '(PA)' 'Pressure'\\n\n",
       "12         PT 'SECTION:' 'BRANCH:' 'riser' '(PA)' 'Pressure'\\n\n",
       "20  PT 'SECTION:' 'BRANCH:' 'new_offshore' '(PA)' 'Pressure'\\n\n",
       "28       PT 'SECTION:' 'BRANCH:' 'to_vent' '(PA)' 'Pressure'\\n\n",
       "36           PT 'SECTION:' 'BRANCH:' 'dry' '(PA)' 'Pressure'\\n\n",
       "44   PT 'SECTION:' 'BRANCH:' 'tiein_spool' '(PA)' 'Pressure'\\n"
      ]
     },
     "execution_count": 6,
     "metadata": {},
     "output_type": "execute_result"
    }
   ],
   "source": [
    "pd.DataFrame(ppl.filter_data(\"PT\"), index=(\"Profiles\",)).T"
   ]
  },
  {
   "cell_type": "markdown",
   "metadata": {},
   "source": [
    "Our targets are:\n",
    "\n",
    "<i>variable 13</i> for the temperature\n",
    "\n",
    "and  \n",
    "\n",
    "<i>variable 12</i> for the pressure"
   ]
  },
  {
   "cell_type": "markdown",
   "metadata": {},
   "source": [
    "Now we can proceed with the data extraction:"
   ]
  },
  {
   "cell_type": "code",
   "execution_count": 7,
   "metadata": {
    "collapsed": true
   },
   "outputs": [],
   "source": [
    "ppl.extract(13)\n",
    "ppl.extract(12)"
   ]
  },
  {
   "cell_type": "markdown",
   "metadata": {},
   "source": [
    "The ppl object now has the two profiles available in the `data` attribute:"
   ]
  },
  {
   "cell_type": "code",
   "execution_count": 8,
   "metadata": {},
   "outputs": [
    {
     "data": {
      "text/plain": [
       "dict_keys([12, 13])"
      ]
     },
     "execution_count": 8,
     "metadata": {},
     "output_type": "execute_result"
    }
   ],
   "source": [
    "ppl.data.keys()"
   ]
  },
  {
   "cell_type": "markdown",
   "metadata": {},
   "source": [
    "while the *label* attibute stores the variable type:"
   ]
  },
  {
   "cell_type": "code",
   "execution_count": 9,
   "metadata": {},
   "outputs": [
    {
     "data": {
      "text/plain": [
       "\"TM 'SECTION:' 'BRANCH:' 'riser' '(C)' 'Fluid temperature'\""
      ]
     },
     "execution_count": 9,
     "metadata": {},
     "output_type": "execute_result"
    }
   ],
   "source": [
    "ppl.label[13]"
   ]
  },
  {
   "cell_type": "markdown",
   "metadata": {},
   "source": [
    "### Ppl data structure"
   ]
  },
  {
   "cell_type": "markdown",
   "metadata": {},
   "source": [
    "The ppl data structure at the moment contains:\n",
    "\n",
    "* the geometry profile of the branch as `ppl.data[variable_index][0]`\n",
    "* the selected profile at the timestep 0 as `ppl.data[variable_index][1][0]`\n",
    "* the selected profile at the last timestep as `ppl.data[variable_index][1][-1]`\n",
    "\n",
    "In other words the first index is the variable, the second is 0 for the geometry and 1 for the data, the last one identifies the timestep."
   ]
  },
  {
   "cell_type": "markdown",
   "metadata": {},
   "source": [
    "### Data processing"
   ]
  },
  {
   "cell_type": "markdown",
   "metadata": {},
   "source": [
    "The results available in the data attribute are numpy arrays and can be easily manipulated and plotted:"
   ]
  },
  {
   "cell_type": "code",
   "execution_count": 10,
   "metadata": {},
   "outputs": [],
   "source": [
    "%matplotlib inline\n",
    "\n",
    "geometry = ppl.data[12][0]\n",
    "pt_riser = ppl.data[12][1]\n",
    "tm_riser = ppl.data[13][1]\n",
    "\n",
    "def ppl_plot(geo, v0, v1, ts):\n",
    "    fig, ax0 = plt.subplots(figsize=(12, 7));\n",
    "    ax0.grid(True)\n",
    "    p0, = ax0.plot(geo, v0[ts])\n",
    "    ax0.set_ylabel(\"[C]\", fontsize=16)\n",
    "    ax0.set_xlabel(\"[m]\", fontsize=16)\n",
    "    ax1 = ax0.twinx()\n",
    "    p1, = ax1.plot(geo, v1[ts]/1e5, 'r')\n",
    "    ax1.grid(False)\n",
    "    ax1.set_ylabel(\"[bara]\", fontsize=16)\n",
    "    ax1.tick_params(axis=\"both\", labelsize=16)\n",
    "    ax1.tick_params(axis=\"both\", labelsize=16)\n",
    "    plt.legend((p0, p1), (\"Temperature profile\", \"Pressure profile\"), loc=3, fontsize=16)\n",
    "    plt.title(\"P and T for case FC1\", size=20);"
   ]
  },
  {
   "cell_type": "markdown",
   "metadata": {},
   "source": [
    "To plot the last timestep:"
   ]
  },
  {
   "cell_type": "code",
   "execution_count": 11,
   "metadata": {},
   "outputs": [
    {
     "data": {
      "image/png": "[encoded data removed]",
      "text/plain": [
       "<matplotlib.figure.Figure at 0x7f030641ad30>"
      ]
     },
     "metadata": {},
     "output_type": "display_data"
    }
   ],
   "source": [
    "ppl_plot(geometry, tm_riser, pt_riser, -1)"
   ]
  },
  {
   "cell_type": "markdown",
   "metadata": {},
   "source": [
    "The time can also be used as parameter:"
   ]
  },
  {
   "cell_type": "code",
   "execution_count": 25,
   "metadata": {},
   "outputs": [
    {
     "data": {
      "image/png": "[encoded data removed]",
      "text/plain": [
       "<matplotlib.figure.Figure at 0x7f0303d9dc18>"
      ]
     },
     "metadata": {},
     "output_type": "display_data"
    }
   ],
   "source": [
    "import ipywidgets.widgets as widgets\n",
    "from ipywidgets import interact\n",
    "\n",
    "timesteps=len(tm_riser)-1 \n",
    "\n",
    "@interact\n",
    "def ppl_plot(ts=widgets.IntSlider(min=0, max=timesteps)):\n",
    "    fig, ax0 = plt.subplots(figsize=(12, 7));\n",
    "    ax0.grid(True)\n",
    "    p0, = ax0.plot(geometry, tm_riser[ts])\n",
    "    ax0.set_ylabel(\"[C]\", fontsize=16)\n",
    "    ax0.set_xlabel(\"[m]\", fontsize=16)\n",
    "    ax0.set_ylim(10, 12)\n",
    "    ax1 = ax0.twinx()\n",
    "    ax1.set_ylim(90, 130)\n",
    "    p1, = ax1.plot(geometry, pt_riser[ts]/1e5, 'r')\n",
    "    ax1.grid(False)\n",
    "    ax1.set_ylabel(\"[bara]\", fontsize=16)\n",
    "    ax1.tick_params(axis=\"both\", labelsize=16)\n",
    "    ax1.tick_params(axis=\"both\", labelsize=16)\n",
    "    plt.legend((p0, p1), (\"Temperature profile\", \"Pressure profile\"), loc=3, fontsize=16)\n",
    "    plt.title(\"P and T for case FC1 @ timestep {}\".format(ts), size=20);"
   ]
  },
  {
   "cell_type": "markdown",
   "metadata": {},
   "source": [
    "<i>The above plot has an interactive widget if executed</i>"
   ]
  }
 ],
 "metadata": {
  "hide_input": true,
  "kernelspec": {
   "display_name": "Python 3",
   "language": "python",
   "name": "python3"
  },
  "language_info": {
   "codemirror_mode": {
    "name": "ipython",
    "version": 3
   },
   "file_extension": ".py",
   "mimetype": "text/x-python",
   "name": "python",
   "nbconvert_exporter": "python",
   "pygments_lexer": "ipython3",
   "version": "3.6.3"
  },
  "toc": {
   "toc_cell": false,
   "toc_number_sections": true,
   "toc_threshold": 6,
   "toc_window_display": false
  },
  "widgets": {
   "state": {
    "8a6563d0e25841c1ba84053393a66bd2": {
     "views": [
      {
       "cell_index": 34
      }
     ]
    }
   },
   "version": "1.2.0"
  }
 },
 "nbformat": 4,
 "nbformat_minor": 1
}
