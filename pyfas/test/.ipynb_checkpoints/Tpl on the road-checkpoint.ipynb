{
 "cells": [
  {
   "cell_type": "code",
   "execution_count": 1,
   "metadata": {
    "collapsed": true
   },
   "outputs": [],
   "source": [
    "import pyfas as fa"
   ]
  },
  {
   "cell_type": "code",
   "execution_count": 2,
   "metadata": {
    "collapsed": true
   },
   "outputs": [],
   "source": [
    "tpl = fa.Tpl(\"FC1_rev01.tpl\")"
   ]
  },
  {
   "cell_type": "code",
   "execution_count": 3,
   "metadata": {
    "collapsed": false
   },
   "outputs": [
    {
     "data": {
      "text/plain": [
       "{1: \"VOLGBL 'GLOBAL' '(-)' 'Global max volume error since last write'\\n\",\n",
       " 2: \"HT 'GLOBAL' '(S)' 'Time step'\\n\",\n",
       " 3: \"PT 'POSITION:' 'TIEIN' '(PA)' 'Pressure'\\n\",\n",
       " 4: \"TM 'POSITION:' 'TIEIN' '(C)' 'Fluid temperature'\\n\",\n",
       " 5: \"HOL 'POSITION:' 'TIEIN' '(-)' 'Holdup (liquid volume fraction)'\\n\",\n",
       " 6: \"GG 'POSITION:' 'TIEIN' '(KG/S)' 'Gas mass flow'\\n\",\n",
       " 7: \"GT 'POSITION:' 'TIEIN' '(KG/S)' 'Total mass flow'\\n\",\n",
       " 8: \"GLT 'POSITION:' 'TIEIN' '(KG/S)' 'Total liquid mass flow'\\n\",\n",
       " 9: \"TWS 'POSITION:' 'TIEIN' '(C)' 'Inner wall surface temperature'\\n\",\n",
       " 10: \"LIQC 'BRANCH:' 'OLD_OFFSHORE' '(M3)' 'Total liquid content in branch'\\n\",\n",
       " 11: \"PT 'POSITION:' 'RISER_BASE' '(PA)' 'Pressure'\\n\",\n",
       " 12: \"TM 'POSITION:' 'RISER_BASE' '(C)' 'Fluid temperature'\\n\",\n",
       " 13: \"HOL 'POSITION:' 'RISER_BASE' '(-)' 'Holdup (liquid volume fraction)'\\n\",\n",
       " 14: \"GG 'POSITION:' 'RISER_BASE' '(KG/S)' 'Gas mass flow'\\n\",\n",
       " 15: \"GT 'POSITION:' 'RISER_BASE' '(KG/S)' 'Total mass flow'\\n\",\n",
       " 16: \"GLT 'POSITION:' 'RISER_BASE' '(KG/S)' 'Total liquid mass flow'\\n\",\n",
       " 17: \"TWS 'POSITION:' 'RISER_BASE' '(C)' 'Inner wall surface temperature'\\n\",\n",
       " 18: \"PT 'POSITION:' 'RISER_TOP' '(PA)' 'Pressure'\\n\",\n",
       " 19: \"TM 'POSITION:' 'RISER_TOP' '(C)' 'Fluid temperature'\\n\",\n",
       " 20: \"HOL 'POSITION:' 'RISER_TOP' '(-)' 'Holdup (liquid volume fraction)'\\n\",\n",
       " 21: \"GG 'POSITION:' 'RISER_TOP' '(KG/S)' 'Gas mass flow'\\n\",\n",
       " 22: \"GT 'POSITION:' 'RISER_TOP' '(KG/S)' 'Total mass flow'\\n\",\n",
       " 23: \"GLT 'POSITION:' 'RISER_TOP' '(KG/S)' 'Total liquid mass flow'\\n\",\n",
       " 24: \"TWS 'POSITION:' 'RISER_TOP' '(C)' 'Inner wall surface temperature'\\n\",\n",
       " 25: \"LIQC 'BRANCH:' 'RISER' '(M3)' 'Total liquid content in branch'\\n\",\n",
       " 26: \"PT 'POSITION:' 'INLET' '(PA)' 'Pressure'\\n\",\n",
       " 27: \"TM 'POSITION:' 'INLET' '(C)' 'Fluid temperature'\\n\",\n",
       " 28: \"HOL 'POSITION:' 'INLET' '(-)' 'Holdup (liquid volume fraction)'\\n\",\n",
       " 29: \"GG 'POSITION:' 'INLET' '(KG/S)' 'Gas mass flow'\\n\",\n",
       " 30: \"GT 'POSITION:' 'INLET' '(KG/S)' 'Total mass flow'\\n\",\n",
       " 31: \"GLT 'POSITION:' 'INLET' '(KG/S)' 'Total liquid mass flow'\\n\",\n",
       " 32: \"TWS 'POSITION:' 'INLET' '(C)' 'Inner wall surface temperature'\\n\",\n",
       " 33: \"LIQC 'BRANCH:' 'NEW_OFFSHORE' '(M3)' 'Total liquid content in branch'\\n\",\n",
       " 34: \"PT 'POSITION:' 'VENT_LINE' '(PA)' 'Pressure'\\n\",\n",
       " 35: \"TM 'POSITION:' 'VENT_LINE' '(C)' 'Fluid temperature'\\n\",\n",
       " 36: \"HOL 'POSITION:' 'VENT_LINE' '(-)' 'Holdup (liquid volume fraction)'\\n\",\n",
       " 37: \"GG 'POSITION:' 'VENT_LINE' '(KG/S)' 'Gas mass flow'\\n\",\n",
       " 38: \"GT 'POSITION:' 'VENT_LINE' '(KG/S)' 'Total mass flow'\\n\",\n",
       " 39: \"GLT 'POSITION:' 'VENT_LINE' '(KG/S)' 'Total liquid mass flow'\\n\",\n",
       " 40: \"TWS 'POSITION:' 'VENT_LINE' '(C)' 'Inner wall surface temperature'\\n\",\n",
       " 41: \"LIQC 'BRANCH:' 'TO_VENT' '(M3)' 'Total liquid content in branch'\\n\",\n",
       " 42: \"VALVDP 'CHOKE:' 'BDVALVE' '(PA)' 'Subcritical pressure drop across valve'\\n\",\n",
       " 43: \"VALVOP 'CHOKE:' 'BDVALVE' '(-)' 'Relative valve opening'\\n\",\n",
       " 44: \"PT 'POSITION:' 'US_PCV20051' '(PA)' 'Pressure'\\n\",\n",
       " 45: \"TM 'POSITION:' 'US_PCV20051' '(C)' 'Fluid temperature'\\n\",\n",
       " 46: \"HOL 'POSITION:' 'US_PCV20051' '(-)' 'Holdup (liquid volume fraction)'\\n\",\n",
       " 47: \"GG 'POSITION:' 'US_PCV20051' '(KG/S)' 'Gas mass flow'\\n\",\n",
       " 48: \"GT 'POSITION:' 'US_PCV20051' '(KG/S)' 'Total mass flow'\\n\",\n",
       " 49: \"GLT 'POSITION:' 'US_PCV20051' '(KG/S)' 'Total liquid mass flow'\\n\",\n",
       " 50: \"TWS 'POSITION:' 'US_PCV20051' '(C)' 'Inner wall surface temperature'\\n\",\n",
       " 51: \"PT 'POSITION:' 'DS_PCV20051' '(PA)' 'Pressure'\\n\",\n",
       " 52: \"TM 'POSITION:' 'DS_PCV20051' '(C)' 'Fluid temperature'\\n\",\n",
       " 53: \"HOL 'POSITION:' 'DS_PCV20051' '(-)' 'Holdup (liquid volume fraction)'\\n\",\n",
       " 54: \"GG 'POSITION:' 'DS_PCV20051' '(KG/S)' 'Gas mass flow'\\n\",\n",
       " 55: \"GT 'POSITION:' 'DS_PCV20051' '(KG/S)' 'Total mass flow'\\n\",\n",
       " 56: \"GLT 'POSITION:' 'DS_PCV20051' '(KG/S)' 'Total liquid mass flow'\\n\",\n",
       " 57: \"TWS 'POSITION:' 'DS_PCV20051' '(C)' 'Inner wall surface temperature'\\n\",\n",
       " 58: \"LIQC 'BRANCH:' 'DRY' '(M3)' 'Total liquid content in branch'\\n\",\n",
       " 59: \"VALVDP 'CHOKE:' 'ESDV' '(PA)' 'Subcritical pressure drop across valve'\\n\",\n",
       " 60: \"VALVDP 'CHOKE:' 'FM_AND_FILTERS' '(PA)' 'Subcritical pressure drop across valve'\\n\",\n",
       " 61: \"VALVDP 'CHOKE:' 'PCV20051' '(PA)' 'Subcritical pressure drop across valve'\\n\",\n",
       " 62: \"VALVOP 'CHOKE:' 'ESDV' '(-)' 'Relative valve opening'\\n\",\n",
       " 63: \"VALVOP 'CHOKE:' 'FM_AND_FILTERS' '(-)' 'Relative valve opening'\\n\",\n",
       " 64: \"VALVOP 'CHOKE:' 'PCV20051' '(-)' 'Relative valve opening'\\n\",\n",
       " 65: \"PT 'POSITION:' 'SPOOLIN' '(PA)' 'Pressure'\\n\",\n",
       " 66: \"TM 'POSITION:' 'SPOOLIN' '(C)' 'Fluid temperature'\\n\",\n",
       " 67: \"HOL 'POSITION:' 'SPOOLIN' '(-)' 'Holdup (liquid volume fraction)'\\n\",\n",
       " 68: \"GG 'POSITION:' 'SPOOLIN' '(KG/S)' 'Gas mass flow'\\n\",\n",
       " 69: \"GT 'POSITION:' 'SPOOLIN' '(KG/S)' 'Total mass flow'\\n\",\n",
       " 70: \"GLT 'POSITION:' 'SPOOLIN' '(KG/S)' 'Total liquid mass flow'\\n\",\n",
       " 71: \"TWS 'POSITION:' 'SPOOLIN' '(C)' 'Inner wall surface temperature'\\n\",\n",
       " 72: \"PT 'POSITION:' 'US_SSIV' '(PA)' 'Pressure'\\n\",\n",
       " 73: \"TM 'POSITION:' 'US_SSIV' '(C)' 'Fluid temperature'\\n\",\n",
       " 74: \"HOL 'POSITION:' 'US_SSIV' '(-)' 'Holdup (liquid volume fraction)'\\n\",\n",
       " 75: \"GG 'POSITION:' 'US_SSIV' '(KG/S)' 'Gas mass flow'\\n\",\n",
       " 76: \"GT 'POSITION:' 'US_SSIV' '(KG/S)' 'Total mass flow'\\n\",\n",
       " 77: \"GLT 'POSITION:' 'US_SSIV' '(KG/S)' 'Total liquid mass flow'\\n\",\n",
       " 78: \"TWS 'POSITION:' 'US_SSIV' '(C)' 'Inner wall surface temperature'\\n\",\n",
       " 79: \"PT 'POSITION:' 'DS_SSIV' '(PA)' 'Pressure'\\n\",\n",
       " 80: \"TM 'POSITION:' 'DS_SSIV' '(C)' 'Fluid temperature'\\n\",\n",
       " 81: \"HOL 'POSITION:' 'DS_SSIV' '(-)' 'Holdup (liquid volume fraction)'\\n\",\n",
       " 82: \"GG 'POSITION:' 'DS_SSIV' '(KG/S)' 'Gas mass flow'\\n\",\n",
       " 83: \"GT 'POSITION:' 'DS_SSIV' '(KG/S)' 'Total mass flow'\\n\",\n",
       " 84: \"GLT 'POSITION:' 'DS_SSIV' '(KG/S)' 'Total liquid mass flow'\\n\",\n",
       " 85: \"TWS 'POSITION:' 'DS_SSIV' '(C)' 'Inner wall surface temperature'\\n\",\n",
       " 86: \"LIQC 'BRANCH:' 'TIEIN_SPOOL' '(M3)' 'Total liquid content in branch'\\n\",\n",
       " 87: \"VALVDP 'CHOKE:' 'SSIV' '(PA)' 'Subcritical pressure drop across valve'\\n\",\n",
       " 88: \"VALVOP 'CHOKE:' 'SSIV' '(-)' 'Relative valve opening'\\n\"}"
      ]
     },
     "execution_count": 3,
     "metadata": {},
     "output_type": "execute_result"
    }
   ],
   "source": [
    "tpl.trends"
   ]
  },
  {
   "cell_type": "code",
   "execution_count": 4,
   "metadata": {
    "collapsed": false
   },
   "outputs": [
    {
     "data": {
      "text/plain": [
       "{1: \"VOLGBL 'GLOBAL' '(-)' 'Global max volume error since last write'\\n\"}"
      ]
     },
     "execution_count": 4,
     "metadata": {},
     "output_type": "execute_result"
    }
   ],
   "source": [
    "tpl.filter_trends('VOLGB')"
   ]
  },
  {
   "cell_type": "code",
   "execution_count": 5,
   "metadata": {
    "collapsed": true
   },
   "outputs": [],
   "source": [
    "tpl.extract(1)"
   ]
  },
  {
   "cell_type": "code",
   "execution_count": 9,
   "metadata": {
    "collapsed": false
   },
   "outputs": [
    {
     "name": "stdout",
     "output_type": "stream",
     "text": [
      "Warning: Cannot change to a different GUI toolkit: nbagg. Using qt instead.\n"
     ]
    },
    {
     "data": {
      "text/plain": [
       "[<matplotlib.lines.Line2D at 0x7fe4779964e0>]"
      ]
     },
     "execution_count": 9,
     "metadata": {},
     "output_type": "execute_result"
    }
   ],
   "source": [
    "import matplotlib.pyplot as plt\n",
    "%matplotlib nbagg\n",
    "plt.plot(tpl.time, tpl.y[1])"
   ]
  },
  {
   "cell_type": "code",
   "execution_count": 8,
   "metadata": {
    "collapsed": false
   },
   "outputs": [
    {
     "name": "stdout",
     "output_type": "stream",
     "text": [
      "Using matplotlib backend: Qt4Agg\n"
     ]
    }
   ],
   "source": [
    "%matplotlib"
   ]
  },
  {
   "cell_type": "code",
   "execution_count": null,
   "metadata": {
    "collapsed": true
   },
   "outputs": [],
   "source": []
  }
 ],
 "metadata": {
  "kernelspec": {
   "display_name": "Python 3",
   "language": "python",
   "name": "python3"
  },
  "language_info": {
   "codemirror_mode": {
    "name": "ipython",
    "version": 3
   },
   "file_extension": ".py",
   "mimetype": "text/x-python",
   "name": "python",
   "nbconvert_exporter": "python",
   "pygments_lexer": "ipython3",
   "version": "3.4.3"
  }
 },
 "nbformat": 4,
 "nbformat_minor": 0
}
